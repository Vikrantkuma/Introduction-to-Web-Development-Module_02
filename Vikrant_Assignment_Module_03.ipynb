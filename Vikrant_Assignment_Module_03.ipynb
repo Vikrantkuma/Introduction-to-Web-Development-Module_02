{
  "nbformat": 4,
  "nbformat_minor": 0,
  "metadata": {
    "colab": {
      "provenance": []
    },
    "kernelspec": {
      "name": "python3",
      "display_name": "Python 3"
    },
    "language_info": {
      "name": "python"
    }
  },
  "cells": [
    {
      "cell_type": "markdown",
      "source": [
        "#Aissignment:- Getting Started  With HTML\n",
        "\n",
        "Question_1. Write a simple program in HTML  that displays the heading \"HTML defines the content and structure of\n",
        "your website” on the web browser?"
      ],
      "metadata": {
        "id": "V_A8CoEBczUR"
      }
    },
    {
      "cell_type": "code",
      "execution_count": null,
      "metadata": {
        "id": "TB82p6MZccgF"
      },
      "outputs": [],
      "source": [
        "<!DOCTYPE html>\n",
        "<html lang=\"en\">\n",
        "<head>\n",
        "    <meta charset=\"UTF-8\">\n",
        "    <meta name=\"viewport\" content=\"width=device-width, initial-scale=1.0\">\n",
        "    <title>Simple HTML Page</title>\n",
        "</head>\n",
        "<body>\n",
        "    <h1>HTML defines the content and structure of your website</h1>\n",
        "</body>\n",
        "</html>\n"
      ]
    },
    {
      "cell_type": "markdown",
      "source": [
        "Question_2. Explain the purpose of comments in HTML and provide an example of how to use comments in an HTML\n",
        "document$\n",
        "\n",
        "    - Answer:-> Comments in HTML are used to add notes, explanations, or reminders within the code without affecting how the webpage is displayed. They help improve code readability, assist in debugging, and provide documentation for developers working on the project.\n",
        "\n",
        "     Example of Using Comments in an HTML Document\n",
        "\n"
      ],
      "metadata": {
        "id": "TbGAq_foGUo1"
      }
    },
    {
      "cell_type": "code",
      "source": [
        "<!DOCTYPE html>\n",
        "<html lang=\"en\">\n",
        "<head>\n",
        "    <meta charset=\"UTF-8\">\n",
        "    <meta name=\"viewport\" content=\"width=device-width, initial-scale=1.0\">\n",
        "    <title>Comments in HTML</title>\n",
        "</head>\n",
        "<body>\n",
        "\n",
        "    <!-- This is the main heading of the webpage -->\n",
        "    <h1>Welcome to My Website</h1>\n",
        "\n",
        "    <!-- This paragraph introduces the website -->\n",
        "    <p>This website provides useful information on web development.</p>\n",
        "\n",
        "    <!-- The following section is under development -->\n",
        "    <!-- <h2>Upcoming Features</h2>\n",
        "    <p>More tutorials and guides coming soon!</p> -->\n",
        "\n",
        "</body>\n",
        "</html>\n"
      ],
      "metadata": {
        "id": "zOUw_tc0HFvz"
      },
      "execution_count": null,
      "outputs": []
    },
    {
      "cell_type": "markdown",
      "source": [
        "Question_3. Write an HTML program that includes a heading, a paragraph of text, a horizontal line, and a line break. Arrange these elements to create a simple web page layout?"
      ],
      "metadata": {
        "id": "7rPYcLkZHmhQ"
      }
    },
    {
      "cell_type": "code",
      "source": [
        "<!DOCTYPE html>\n",
        "<html lang=\"en\">\n",
        "<head>\n",
        "    <meta charset=\"UTF-8\">\n",
        "    <meta name=\"viewport\" content=\"width=device-width, initial-scale=1.0\">\n",
        "    <title>Simple Web Page</title>\n",
        "</head>\n",
        "<body>\n",
        "\n",
        "    <!-- Heading -->\n",
        "    <h1>Welcome to My Web Page</h1>\n",
        "\n",
        "    <!-- Horizontal Line -->\n",
        "    <hr>\n",
        "\n",
        "    <!-- Paragraph -->\n",
        "    <p>This is a simple web page that demonstrates basic HTML elements.<br>\n",
        "    The heading above introduces the page, and this paragraph provides some information.</p>\n",
        "\n",
        "    <!-- Another Line Break -->\n",
        "    <p>Here is another line break demonstration:<br>\n",
        "    This text appears on a new line.</p>\n",
        "\n",
        "</body>\n",
        "</html>\n"
      ],
      "metadata": {
        "id": "NSVU9KAMIHKd"
      },
      "execution_count": null,
      "outputs": []
    },
    {
      "cell_type": "markdown",
      "source": [
        "Question_4. Write a short note on Tag and element with an example?\n",
        "\n",
        "    - Answer:-> In HTML, tags and elements are fundamental concepts used to structure web pages.\n",
        "\n",
        "      Tag :->\n",
        "      \n",
        "      A tag is a keyword enclosed in angle brackets (<>) that defines the beginning or end of an HTML element. Tags come in two types:\n",
        "\n",
        "      -> Opening tag (<tagname>) - Starts an element.\n",
        "\n",
        "      -> Closing tag (</tagname>) - Ends an element (except for self-closing tags).\n",
        "\n",
        "      Example: ->"
      ],
      "metadata": {
        "id": "9qV1KknkIlE_"
      }
    },
    {
      "cell_type": "code",
      "source": [
        "<p>This is a paragraph.</p>"
      ],
      "metadata": {
        "id": "0HWvph4TKFEC"
      },
      "execution_count": null,
      "outputs": []
    },
    {
      "cell_type": "markdown",
      "source": [
        "  Element :->\n",
        "\n",
        "  An element consists of an opening tag, content, and a closing tag (except self-closing elements). It represents a part of the web page, such as a heading, paragraph, or image.\n",
        "\n",
        "Example of an Element:->"
      ],
      "metadata": {
        "id": "_rlzG93bKGzG"
      }
    },
    {
      "cell_type": "code",
      "source": [
        "<h1>Welcome to My Website</h1>"
      ],
      "metadata": {
        "id": "B79E8w4EK35r"
      },
      "execution_count": null,
      "outputs": []
    },
    {
      "cell_type": "markdown",
      "source": [
        "Self-Closing Elements\n",
        "Some elements do not need a closing tag and are called self-closing tags, such as:"
      ],
      "metadata": {
        "id": "MtPdHQEYK5CD"
      }
    },
    {
      "cell_type": "code",
      "source": [
        "<img src=\"image.jpg\" alt=\"Example Image\">\n",
        "<br>\n",
        "<hr>"
      ],
      "metadata": {
        "id": "Z1BlTfJoLR5J"
      },
      "execution_count": null,
      "outputs": []
    },
    {
      "cell_type": "markdown",
      "source": [
        "Question_5 :-> What is the DOCTYPE Declaration in HTML?\n",
        "\n",
        "\n",
        "\n"
      ],
      "metadata": {
        "id": "PAxxZz30LUJp"
      }
    },
    {
      "cell_type": "code",
      "source": [
        "   - Answer:-> The DOCTYPE declaration (<!DOCTYPE html>) is used in HTML to specify the version of HTML being used in a document. It helps the web browser interpret the page correctly by enabling standards mode instead of quirks mode."
      ],
      "metadata": {
        "id": "GpuayH0JMg-3"
      },
      "execution_count": null,
      "outputs": []
    },
    {
      "cell_type": "markdown",
      "source": [
        "Purpose of DOCTYPE\n",
        "\n",
        "✔ Ensures the browser renders the webpage correctly.\n",
        "\n",
        "✔ Prevents older browsers from using quirks mode, which can cause inconsistent page rendering.\n",
        "\n",
        "✔ Helps maintain web standards for compatibility across different browsers.\n",
        "\n",
        "\n",
        "Example of DOCTYPE in HTML5"
      ],
      "metadata": {
        "id": "wsH6I83gMja1"
      }
    },
    {
      "cell_type": "code",
      "source": [
        "<!DOCTYPE html>\n",
        "<html lang=\"en\">\n",
        "<head>\n",
        "    <meta charset=\"UTF-8\">\n",
        "    <meta name=\"viewport\" content=\"width=device-width, initial-scale=1.0\">\n",
        "    <title>HTML DOCTYPE Example</title>\n",
        "</head>\n",
        "<body>\n",
        "    <h1>Welcome to My Web Page</h1>\n",
        "</body>\n",
        "</html>\n"
      ],
      "metadata": {
        "id": "6o7jwsZNM2SW"
      },
      "execution_count": null,
      "outputs": []
    }
  ]
}